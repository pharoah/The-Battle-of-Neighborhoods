{
    "nbformat_minor": 1, 
    "cells": [
        {
            "source": "# Web scrapping of Population and Demographics data of New York city from Wikipedia", 
            "cell_type": "markdown", 
            "metadata": {
                "collapsed": true
            }
        }, 
        {
            "source": "### Population Data: \nWeb scrapping of Population data from wikipedia page - https://en.wikipedia.org/wiki/New_York_City", 
            "cell_type": "markdown", 
            "metadata": {}
        }, 
        {
            "execution_count": 1, 
            "cell_type": "code", 
            "metadata": {}, 
            "outputs": [
                {
                    "output_type": "stream", 
                    "name": "stdout", 
                    "text": "Solving environment: done\n\n## Package Plan ##\n\n  environment location: /opt/conda/envs/DSX-Python35\n\n  added / updated specs: \n    - geopy\n\n\nThe following packages will be downloaded:\n\n    package                    |            build\n    ---------------------------|-----------------\n    geopy-1.19.0               |             py_0          53 KB  conda-forge\n    geographiclib-1.49         |             py_0          32 KB  conda-forge\n    ------------------------------------------------------------\n                                           Total:          85 KB\n\nThe following NEW packages will be INSTALLED:\n\n    geographiclib: 1.49-py_0   conda-forge\n    geopy:         1.19.0-py_0 conda-forge\n\n\nDownloading and Extracting Packages\ngeopy-1.19.0         | 53 KB     | ##################################### | 100% \ngeographiclib-1.49   | 32 KB     | ##################################### | 100% \nPreparing transaction: done\nVerifying transaction: done\nExecuting transaction: done\n"
                }
            ], 
            "source": "import numpy as np # library to handle data in a vectorized manner\n\nimport pandas as pd # library for data analsysis\npd.set_option('display.max_columns', None)\npd.set_option('display.max_rows', None)\n\nimport json # library to handle JSON files\n\n!conda install -c conda-forge geopy --yes # uncomment this line if you haven't completed the Foursquare API lab\nfrom geopy.geocoders import Nominatim # convert an address into latitude and longitude values\n\nimport requests # library to handle requests\nfrom pandas.io.json import json_normalize # tranform JSON file into a pandas dataframe\n\n# Matplotlib and associated plotting modules\nimport matplotlib.cm as cm\nimport matplotlib.colors as colors\nimport matplotlib.pyplot as plt\n\n# conda install -c anaconda beautiful-soup --yes\nfrom bs4 import BeautifulSoup # package for parsing HTML and XML documents\n\nimport csv # implements classes to read and write tabular data in CSV form\n"
        }, 
        {
            "source": "Web scrapping of Population data from wikipedia page using BeautifulSoup.\n\nBeautiful Soup is a Python package for parsing HTML and XML documents (including having malformed markup, i.e. non-closed tags, so named after tag soup). It creates a parse tree for parsed pages that can be used to extract data from HTML, which is useful for web scraping.\n", 
            "cell_type": "markdown", 
            "metadata": {}
        }, 
        {
            "execution_count": 56, 
            "cell_type": "code", 
            "metadata": {}, 
            "outputs": [], 
            "source": "website_url = requests.get('https://en.wikipedia.org/wiki/Demographics_of_New_York_City').text\nsoup = BeautifulSoup(website_url,'lxml')\ntable = soup.find('table',{'class':'wikitable sortable'})\n#print(soup.prettify())\n\nheaders = [header.text for header in table.find_all('th')]\n\ntable_rows = table.find_all('tr')        \nrows = []\nfor row in table_rows:\n   td = row.find_all('td')\n   row = [row.text for row in td]\n   rows.append(row)\n\nwith open('NYC_POPULATION1.csv', 'w') as f:\n   writer = csv.writer(f)\n   writer.writerow(headers)\n   writer.writerows(row for row in rows if row)"
        }, 
        {
            "execution_count": 57, 
            "cell_type": "code", 
            "metadata": {}, 
            "outputs": [], 
            "source": "Pop_data=pd.read_csv('NYC_POPULATION1.csv', usecols=[0,1,2,3,4,5,6,7,8], header=None)\nPop_data.columns = [\"Borough\", \"County\", \"Population\", \"GDP\", \"Per Capita Income\", \"Sq Miles\",\"Sq Km\",\"person per sq mi\",\"person per sq km\"]"
        }, 
        {
            "execution_count": 58, 
            "cell_type": "code", 
            "metadata": {}, 
            "outputs": [
                {
                    "execution_count": 58, 
                    "metadata": {}, 
                    "data": {
                        "text/html": "<div>\n<style scoped>\n    .dataframe tbody tr th:only-of-type {\n        vertical-align: middle;\n    }\n\n    .dataframe tbody tr th {\n        vertical-align: top;\n    }\n\n    .dataframe thead th {\n        text-align: right;\n    }\n</style>\n<table border=\"1\" class=\"dataframe\">\n  <thead>\n    <tr style=\"text-align: right;\">\n      <th></th>\n      <th>Borough</th>\n      <th>County</th>\n      <th>Population</th>\n      <th>GDP</th>\n      <th>Per Capita Income</th>\n      <th>Sq Miles</th>\n      <th>Sq Km</th>\n      <th>person per sq mi</th>\n      <th>person per sq km</th>\n    </tr>\n  </thead>\n  <tbody>\n    <tr>\n      <th>1</th>\n      <td>The Bronx\\n</td>\n      <td>\\n  Bronx\\n</td>\n      <td>1,471,160\\n</td>\n      <td>28.787\\n</td>\n      <td>19,570\\n</td>\n      <td>42.10\\n</td>\n      <td>109.04\\n</td>\n      <td>34,653\\n</td>\n      <td>13,231\\n</td>\n    </tr>\n    <tr>\n      <th>2</th>\n      <td>Brooklyn\\n</td>\n      <td>\\n  Kings\\n</td>\n      <td>2,648,771\\n</td>\n      <td>63.303\\n</td>\n      <td>23,900\\n</td>\n      <td>70.82\\n</td>\n      <td>183.42\\n</td>\n      <td>37,137\\n</td>\n      <td>14,649\\n</td>\n    </tr>\n    <tr>\n      <th>3</th>\n      <td>Manhattan\\n</td>\n      <td>\\n  New York\\n</td>\n      <td>1,664,727\\n</td>\n      <td>629.682\\n</td>\n      <td>378,250\\n</td>\n      <td>22.83\\n</td>\n      <td>59.13\\n</td>\n      <td>72,033\\n</td>\n      <td>27,826\\n</td>\n    </tr>\n    <tr>\n      <th>4</th>\n      <td>Queens\\n</td>\n      <td>\\n   Queens\\n</td>\n      <td>2,358,582\\n</td>\n      <td>73.842\\n</td>\n      <td>31,310\\n</td>\n      <td>108.53\\n</td>\n      <td>281.09\\n</td>\n      <td>21,460\\n</td>\n      <td>8,354\\n</td>\n    </tr>\n    <tr>\n      <th>5</th>\n      <td>Staten Island\\n</td>\n      <td>\\n   Richmond\\n</td>\n      <td>479,458\\n</td>\n      <td>11.249\\n</td>\n      <td>23,460\\n</td>\n      <td>58.37\\n</td>\n      <td>151.18\\n</td>\n      <td>8,112\\n</td>\n      <td>3,132\\n</td>\n    </tr>\n    <tr>\n      <th>6</th>\n      <td>City of New York</td>\n      <td>8,622,698</td>\n      <td>806.863</td>\n      <td>93,574</td>\n      <td>302.64</td>\n      <td>783.83</td>\n      <td>28,188</td>\n      <td>10,947\\n</td>\n      <td>NaN</td>\n    </tr>\n    <tr>\n      <th>7</th>\n      <td>State of New York</td>\n      <td>19,849,399</td>\n      <td>1,547.116</td>\n      <td>78,354</td>\n      <td>47,214</td>\n      <td>122,284</td>\n      <td>416.4</td>\n      <td>159\\n</td>\n      <td>NaN</td>\n    </tr>\n    <tr>\n      <th>8</th>\n      <td>Sources:[14] and see individual borough articl...</td>\n      <td>NaN</td>\n      <td>NaN</td>\n      <td>NaN</td>\n      <td>NaN</td>\n      <td>NaN</td>\n      <td>NaN</td>\n      <td>NaN</td>\n      <td>NaN</td>\n    </tr>\n  </tbody>\n</table>\n</div>", 
                        "text/plain": "                                             Borough           County  \\\n1                                        The Bronx\\n      \\n  Bronx\\n   \n2                                         Brooklyn\\n      \\n  Kings\\n   \n3                                        Manhattan\\n   \\n  New York\\n   \n4                                           Queens\\n    \\n   Queens\\n   \n5                                    Staten Island\\n  \\n   Richmond\\n   \n6                                   City of New York        8,622,698   \n7                                  State of New York       19,849,399   \n8  Sources:[14] and see individual borough articl...              NaN   \n\n    Population        GDP Per Capita Income  Sq Miles     Sq Km  \\\n1  1,471,160\\n   28.787\\n          19,570\\n   42.10\\n  109.04\\n   \n2  2,648,771\\n   63.303\\n          23,900\\n   70.82\\n  183.42\\n   \n3  1,664,727\\n  629.682\\n         378,250\\n   22.83\\n   59.13\\n   \n4  2,358,582\\n   73.842\\n          31,310\\n  108.53\\n  281.09\\n   \n5    479,458\\n   11.249\\n          23,460\\n   58.37\\n  151.18\\n   \n6      806.863     93,574            302.64    783.83    28,188   \n7    1,547.116     78,354            47,214   122,284     416.4   \n8          NaN        NaN               NaN       NaN       NaN   \n\n  person per sq mi person per sq km  \n1         34,653\\n         13,231\\n  \n2         37,137\\n         14,649\\n  \n3         72,033\\n         27,826\\n  \n4         21,460\\n          8,354\\n  \n5          8,112\\n          3,132\\n  \n6         10,947\\n              NaN  \n7            159\\n              NaN  \n8              NaN              NaN  "
                    }, 
                    "output_type": "execute_result"
                }
            ], 
            "source": "Pop_data.drop(Pop_data.index[0],inplace=True)\nPop_data"
        }, 
        {
            "execution_count": null, 
            "cell_type": "code", 
            "metadata": {}, 
            "outputs": [], 
            "source": ""
        }, 
        {
            "execution_count": null, 
            "cell_type": "code", 
            "metadata": {}, 
            "outputs": [], 
            "source": ""
        }, 
        {
            "execution_count": 59, 
            "cell_type": "code", 
            "metadata": {}, 
            "outputs": [
                {
                    "execution_count": 59, 
                    "metadata": {}, 
                    "data": {
                        "text/html": "<div>\n<style scoped>\n    .dataframe tbody tr th:only-of-type {\n        vertical-align: middle;\n    }\n\n    .dataframe tbody tr th {\n        vertical-align: top;\n    }\n\n    .dataframe thead th {\n        text-align: right;\n    }\n</style>\n<table border=\"1\" class=\"dataframe\">\n  <thead>\n    <tr style=\"text-align: right;\">\n      <th></th>\n      <th>Borough</th>\n      <th>County</th>\n      <th>Population</th>\n      <th>GDP</th>\n      <th>Per Capita Income</th>\n      <th>Sq Miles</th>\n      <th>Sq Km</th>\n      <th>person per sq mi</th>\n      <th>person per sq km</th>\n    </tr>\n  </thead>\n  <tbody>\n    <tr>\n      <th>1</th>\n      <td>The Bronx</td>\n      <td>Bronx</td>\n      <td>1,471,160</td>\n      <td>28.787</td>\n      <td>19,570</td>\n      <td>42.10</td>\n      <td>109.04</td>\n      <td>34,653</td>\n      <td>13,231</td>\n    </tr>\n    <tr>\n      <th>2</th>\n      <td>Brooklyn</td>\n      <td>Kings</td>\n      <td>2,648,771</td>\n      <td>63.303</td>\n      <td>23,900</td>\n      <td>70.82</td>\n      <td>183.42</td>\n      <td>37,137</td>\n      <td>14,649</td>\n    </tr>\n    <tr>\n      <th>3</th>\n      <td>Manhattan</td>\n      <td>New York</td>\n      <td>1,664,727</td>\n      <td>629.682</td>\n      <td>378,250</td>\n      <td>22.83</td>\n      <td>59.13</td>\n      <td>72,033</td>\n      <td>27,826</td>\n    </tr>\n    <tr>\n      <th>4</th>\n      <td>Queens</td>\n      <td>Queens</td>\n      <td>2,358,582</td>\n      <td>73.842</td>\n      <td>31,310</td>\n      <td>108.53</td>\n      <td>281.09</td>\n      <td>21,460</td>\n      <td>8,354</td>\n    </tr>\n    <tr>\n      <th>5</th>\n      <td>Staten Island</td>\n      <td>Richmond</td>\n      <td>479,458</td>\n      <td>11.249</td>\n      <td>23,460</td>\n      <td>58.37</td>\n      <td>151.18</td>\n      <td>8,112</td>\n      <td>3,132</td>\n    </tr>\n  </tbody>\n</table>\n</div>", 
                        "text/plain": "         Borough       County Population      GDP Per Capita Income Sq Miles  \\\n1      The Bronx        Bronx  1,471,160   28.787            19,570    42.10   \n2       Brooklyn        Kings  2,648,771   63.303            23,900    70.82   \n3      Manhattan     New York  1,664,727  629.682           378,250    22.83   \n4         Queens       Queens  2,358,582   73.842            31,310   108.53   \n5  Staten Island     Richmond    479,458   11.249            23,460    58.37   \n\n    Sq Km person per sq mi person per sq km  \n1  109.04           34,653           13,231  \n2  183.42           37,137           14,649  \n3   59.13           72,033           27,826  \n4  281.09           21,460            8,354  \n5  151.18            8,112            3,132  "
                    }, 
                    "output_type": "execute_result"
                }
            ], 
            "source": "Pop_data['Borough']=Pop_data['Borough'].replace(to_replace='\\n', value='', regex=True)\nPop_data['County']=Pop_data['County'].replace(to_replace='\\n', value='', regex=True)\nPop_data['Sq Miles']=Pop_data['Sq Miles'].replace(to_replace='\\n', value='', regex=True)\nPop_data['Sq Km']=Pop_data['Sq Km'].replace(to_replace='\\n', value='', regex=True)\nPop_data['person per sq mi']=Pop_data['person per sq mi'].replace(to_replace='\\n', value='', regex=True)\nPop_data['person per sq km']=Pop_data['person per sq km'].replace(to_replace='\\n', value='', regex=True)\nPop_data['Population']=Pop_data['Population'].replace(to_replace='\\n', value='', regex=True)\nPop_data['GDP']=Pop_data['GDP'].replace(to_replace='\\n', value='', regex=True)\nPop_data['Per Capita Income']=Pop_data['Per Capita Income'].replace(to_replace='\\n', value='', regex=True)\nPop_data.drop(Pop_data.index[5:8],inplace=True)\nPop_data\n"
        }, 
        {
            "source": "Save DataFrame ", 
            "cell_type": "markdown", 
            "metadata": {}
        }, 
        {
            "execution_count": 60, 
            "cell_type": "code", 
            "metadata": {}, 
            "outputs": [], 
            "source": "Pop_data.to_csv('NYC_POPULATION.csv',index=False)"
        }, 
        {
            "source": "### DEMOGRAPHICS DATA\n\nWe will web scrap Demographics data from wikipedia page - https://en.wikipedia.org/wiki/New_York_City", 
            "cell_type": "markdown", 
            "metadata": {}
        }, 
        {
            "execution_count": 61, 
            "cell_type": "code", 
            "metadata": {}, 
            "outputs": [], 
            "source": "website_url = requests.get('https://en.wikipedia.org/wiki/New_York_City').text\nsoup = BeautifulSoup(website_url,'lxml')\ntable = soup.find('table',{'class':'wikitable sortable collapsible'})\n#print(soup.prettify())\n\nheaders = [header.text for header in table.find_all('th')]\n\ntable_rows = table.find_all('tr')        \nrows = []\nfor row in table_rows:\n   td = row.find_all('td')\n   row = [row.text for row in td]\n   rows.append(row)\n\nwith open('NYC_DEMO.csv', 'w') as f:\n   writer = csv.writer(f)\n   writer.writerow(headers)\n   writer.writerows(row for row in rows if row)"
        }, 
        {
            "execution_count": 66, 
            "cell_type": "code", 
            "metadata": {}, 
            "outputs": [
                {
                    "execution_count": 66, 
                    "metadata": {}, 
                    "data": {
                        "text/html": "<div>\n<style scoped>\n    .dataframe tbody tr th:only-of-type {\n        vertical-align: middle;\n    }\n\n    .dataframe tbody tr th {\n        vertical-align: top;\n    }\n\n    .dataframe thead th {\n        text-align: right;\n    }\n</style>\n<table border=\"1\" class=\"dataframe\">\n  <thead>\n    <tr style=\"text-align: right;\">\n      <th></th>\n      <th>Racial composition</th>\n      <th>2010[249]</th>\n      <th>1990[251]</th>\n      <th>1970[251]</th>\n      <th>1940[251]</th>\n    </tr>\n  </thead>\n  <tbody>\n    <tr>\n      <th>0</th>\n      <td>White</td>\n      <td>44.0%</td>\n      <td>52.3%</td>\n      <td>76.6%</td>\n      <td>93.6%\\n</td>\n    </tr>\n    <tr>\n      <th>1</th>\n      <td>\u2014Non-Hispanic</td>\n      <td>33.3%</td>\n      <td>43.2%</td>\n      <td>62.9%[252]</td>\n      <td>92.0%\\n</td>\n    </tr>\n    <tr>\n      <th>2</th>\n      <td>Black or African American</td>\n      <td>25.5%</td>\n      <td>28.7%</td>\n      <td>21.1%</td>\n      <td>6.1%\\n</td>\n    </tr>\n    <tr>\n      <th>3</th>\n      <td>Hispanic or Latino (of any race)</td>\n      <td>28.6%</td>\n      <td>24.4%</td>\n      <td>16.2%[252]</td>\n      <td>1.6%\\n</td>\n    </tr>\n    <tr>\n      <th>4</th>\n      <td>Asian</td>\n      <td>12.7%</td>\n      <td>7.0%</td>\n      <td>1.2%</td>\n      <td>\u2212\\n</td>\n    </tr>\n  </tbody>\n</table>\n</div>", 
                        "text/plain": "                 Racial composition 2010[249] 1990[251]   1970[251]  \\\n0                             White     44.0%     52.3%       76.6%   \n1                     \u2014Non-Hispanic     33.3%     43.2%  62.9%[252]   \n2         Black or African American     25.5%     28.7%       21.1%   \n3  Hispanic or Latino (of any race)     28.6%     24.4%  16.2%[252]   \n4                             Asian     12.7%      7.0%        1.2%   \n\n  1940[251]\\n  \n0     93.6%\\n  \n1     92.0%\\n  \n2      6.1%\\n  \n3      1.6%\\n  \n4         \u2212\\n  "
                    }, 
                    "output_type": "execute_result"
                }
            ], 
            "source": "Demo_data=pd.read_csv('NYC_DEMO.csv')\n\nDemo_data"
        }, 
        {
            "execution_count": 67, 
            "cell_type": "code", 
            "metadata": {}, 
            "outputs": [], 
            "source": "Demo_data.rename(columns = {'2010[249]' : '2010',\n                   '1990[251]':'1990',\n                   '1970[251]':'1970', \n                   '1940[251]':'1940',\n                    }, inplace=True)"
        }, 
        {
            "execution_count": 68, 
            "cell_type": "code", 
            "metadata": {}, 
            "outputs": [], 
            "source": "Demo_data.columns = Demo_data.columns.str.replace(' ', '')"
        }, 
        {
            "execution_count": 69, 
            "cell_type": "code", 
            "metadata": {}, 
            "outputs": [
                {
                    "execution_count": 69, 
                    "metadata": {}, 
                    "data": {
                        "text/html": "<div>\n<style scoped>\n    .dataframe tbody tr th:only-of-type {\n        vertical-align: middle;\n    }\n\n    .dataframe tbody tr th {\n        vertical-align: top;\n    }\n\n    .dataframe thead th {\n        text-align: right;\n    }\n</style>\n<table border=\"1\" class=\"dataframe\">\n  <thead>\n    <tr style=\"text-align: right;\">\n      <th></th>\n      <th>Racialcomposition</th>\n      <th>2010</th>\n      <th>1990</th>\n      <th>1970</th>\n      <th>1940[251]</th>\n    </tr>\n  </thead>\n  <tbody>\n    <tr>\n      <th>0</th>\n      <td>White</td>\n      <td>44.0%</td>\n      <td>52.3%</td>\n      <td>76.6%</td>\n      <td>93.6%</td>\n    </tr>\n    <tr>\n      <th>1</th>\n      <td>\u2014Non-Hispanic</td>\n      <td>33.3%</td>\n      <td>43.2%</td>\n      <td>62.9%[252]</td>\n      <td>92.0%</td>\n    </tr>\n    <tr>\n      <th>2</th>\n      <td>Black or African American</td>\n      <td>25.5%</td>\n      <td>28.7%</td>\n      <td>21.1%</td>\n      <td>6.1%</td>\n    </tr>\n    <tr>\n      <th>3</th>\n      <td>Hispanic or Latino (of any race)</td>\n      <td>28.6%</td>\n      <td>24.4%</td>\n      <td>16.2%[252]</td>\n      <td>1.6%</td>\n    </tr>\n    <tr>\n      <th>4</th>\n      <td>Asian</td>\n      <td>12.7%</td>\n      <td>7.0%</td>\n      <td>1.2%</td>\n      <td>\u2212</td>\n    </tr>\n  </tbody>\n</table>\n</div>", 
                        "text/plain": "                  Racialcomposition   2010   1990        1970 1940[251]\\n\n0                             White  44.0%  52.3%       76.6%      93.6% \n1                     \u2014Non-Hispanic  33.3%  43.2%  62.9%[252]      92.0% \n2         Black or African American  25.5%  28.7%       21.1%       6.1% \n3  Hispanic or Latino (of any race)  28.6%  24.4%  16.2%[252]       1.6% \n4                             Asian  12.7%   7.0%        1.2%          \u2212 "
                    }, 
                    "output_type": "execute_result"
                }
            ], 
            "source": "Demo_data= Demo_data.replace('\\n',' ', regex=True)\nDemo_data"
        }, 
        {
            "execution_count": 70, 
            "cell_type": "code", 
            "metadata": {}, 
            "outputs": [
                {
                    "execution_count": 70, 
                    "metadata": {}, 
                    "data": {
                        "text/html": "<div>\n<style scoped>\n    .dataframe tbody tr th:only-of-type {\n        vertical-align: middle;\n    }\n\n    .dataframe tbody tr th {\n        vertical-align: top;\n    }\n\n    .dataframe thead th {\n        text-align: right;\n    }\n</style>\n<table border=\"1\" class=\"dataframe\">\n  <thead>\n    <tr style=\"text-align: right;\">\n      <th></th>\n      <th>Racialcomposition</th>\n      <th>2010</th>\n      <th>1990</th>\n      <th>1970</th>\n      <th>1940[251]</th>\n    </tr>\n  </thead>\n  <tbody>\n    <tr>\n      <th>0</th>\n      <td>White</td>\n      <td>44.0%</td>\n      <td>52.3%</td>\n      <td>76.6%</td>\n      <td>93.6%</td>\n    </tr>\n    <tr>\n      <th>1</th>\n      <td>\u2014Non-Hispanic</td>\n      <td>33.3%</td>\n      <td>43.2%</td>\n      <td>62.9%</td>\n      <td>92.0%</td>\n    </tr>\n    <tr>\n      <th>2</th>\n      <td>Black or African American</td>\n      <td>25.5%</td>\n      <td>28.7%</td>\n      <td>21.1%</td>\n      <td>6.1%</td>\n    </tr>\n    <tr>\n      <th>3</th>\n      <td>Hispanic or Latino (of any race)</td>\n      <td>28.6%</td>\n      <td>24.4%</td>\n      <td>16.2%</td>\n      <td>1.6%</td>\n    </tr>\n    <tr>\n      <th>4</th>\n      <td>Asian</td>\n      <td>12.7%</td>\n      <td>7.0%</td>\n      <td>1.2%</td>\n      <td>\u2212</td>\n    </tr>\n  </tbody>\n</table>\n</div>", 
                        "text/plain": "                  Racialcomposition   2010   1990   1970 1940[251]\\n\n0                             White  44.0%  52.3%  76.6%      93.6% \n1                     \u2014Non-Hispanic  33.3%  43.2%  62.9%      92.0% \n2         Black or African American  25.5%  28.7%  21.1%       6.1% \n3  Hispanic or Latino (of any race)  28.6%  24.4%  16.2%       1.6% \n4                             Asian  12.7%   7.0%   1.2%          \u2212 "
                    }, 
                    "output_type": "execute_result"
                }
            ], 
            "source": "Demo_data['1970'] = Demo_data['1970'].str.rstrip('[252]')\nDemo_data"
        }, 
        {
            "execution_count": 71, 
            "cell_type": "code", 
            "metadata": {}, 
            "outputs": [], 
            "source": "Demo_data.to_csv('NYC_DEMOGRAPHICS.csv',index=False)"
        }, 
        {
            "execution_count": null, 
            "cell_type": "code", 
            "metadata": {}, 
            "outputs": [], 
            "source": ""
        }
    ], 
    "metadata": {
        "kernelspec": {
            "display_name": "Python 3.5", 
            "name": "python3", 
            "language": "python"
        }, 
        "language_info": {
            "mimetype": "text/x-python", 
            "nbconvert_exporter": "python", 
            "version": "3.5.5", 
            "name": "python", 
            "file_extension": ".py", 
            "pygments_lexer": "ipython3", 
            "codemirror_mode": {
                "version": 3, 
                "name": "ipython"
            }
        }
    }, 
    "nbformat": 4
}